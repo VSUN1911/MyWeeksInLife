{
 "cells": [
  {
   "cell_type": "code",
   "execution_count": null,
   "metadata": {},
   "outputs": [],
   "source": [
    "!pip install numpy\n",
    "!pip install matplotlib"
   ]
  },
  {
   "cell_type": "code",
   "execution_count": 1,
   "metadata": {},
   "outputs": [
    {
     "name": "stdout",
     "output_type": "stream",
     "text": [
      "You are: 55 years old.\n",
      "Today is in week 50 of the year.\n",
      "Here is your weeks in life ~ Earn IT ^^ \n"
     ]
    },
    {
     "data": {
      "image/png": "[encoded data removed]",
      "text/plain": [
       "<Figure size 640x480 with 1 Axes>"
      ]
     },
     "metadata": {},
     "output_type": "display_data"
    }
   ],
   "source": [
    "import numpy as np\n",
    "import matplotlib.pyplot as plt\n",
    "from datetime import datetime\n",
    "\n",
    "# Get the current date\n",
    "current_date = datetime.now()\n",
    "\n",
    "# Get user input for age with validation\n",
    "while True:\n",
    "    age_str = input(\"Please enter your age: \")\n",
    "    # Convert the input to an integer (assuming the user enters a valid integer)\n",
    "    try:\n",
    "        age = int(age_str)\n",
    "        if 0 <= age <= 89:\n",
    "            break\n",
    "        else:\n",
    "            print(\"Invalid input. Age must be between 0 and 89.\")        \n",
    "    except ValueError:\n",
    "        print(\"Invalid input. Please enter a valid integer for your age.\")\n",
    "print(f\"You are: {age} years old.\")\n",
    "\n",
    "# Get the ISO week number (Monday is considered the first day of the week)\n",
    "week_number = current_date.isocalendar()[1]\n",
    "print(f\"Today is in week {week_number} of the year.\")\n",
    "\n",
    "# Create a 90x52x3 array filled with zeros (black)\n",
    "image = np.zeros((90, 52, 3), dtype=np.uint8)\n",
    "\n",
    "# Set the color of the first 'age' rows to red\n",
    "image[0:age, :, 0] = 255  # Red channel to 255\n",
    "image[age, 0:week_number, 0] = 255   # Red channel to 255\n",
    "\n",
    "# Set the color of the remaining rows to green\n",
    "image[age + 1:, :, 1] = 255  # Green channel to 255\n",
    "\n",
    "# Display the image\n",
    "print(f\"Here is your weeks in life ~ Earn IT ^^ \")\n",
    "plt.imshow(image)\n",
    "plt.show()\n"
   ]
  }
 ],
 "metadata": {
  "kernelspec": {
   "display_name": "Python 3",
   "language": "python",
   "name": "python3"
  },
  "language_info": {
   "codemirror_mode": {
    "name": "ipython",
    "version": 3
   },
   "file_extension": ".py",
   "mimetype": "text/x-python",
   "name": "python",
   "nbconvert_exporter": "python",
   "pygments_lexer": "ipython3",
   "version": "3.10.10"
  }
 },
 "nbformat": 4,
 "nbformat_minor": 2
}
